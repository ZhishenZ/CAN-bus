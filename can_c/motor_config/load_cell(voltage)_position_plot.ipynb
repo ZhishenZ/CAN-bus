{
 "cells": [
  {
   "cell_type": "code",
   "execution_count": 13,
   "id": "68511c33",
   "metadata": {},
   "outputs": [],
   "source": [
    "import numpy as np\n",
    "import pandas as pd\n",
    "import matplotlib.pyplot as plt \n",
    "df = pd.read_csv(\"Pdo_response.csv\")"
   ]
  },
  {
   "cell_type": "markdown",
   "id": "6542df31",
   "metadata": {},
   "source": [
    "We want to plot a diagram of position and load cell voltage (correlated to force). store the the data in a n*2 list.\n",
    "Cluter the data within the same time interval into groups "
   ]
  },
  {
   "cell_type": "code",
   "execution_count": 14,
   "id": "04ce02e9",
   "metadata": {},
   "outputs": [],
   "source": [
    "idx_1FF = 0\n",
    "idx_2FF = 1\n",
    "idx_3FF = 2\n",
    "idx_4FF = 3\n",
    "pos_and_vol_CAN_data = []\n",
    "visited_indicies = []\n",
    "# loop the data frame\n",
    "for i in range(len(df)):\n",
    "    match df.loc[i][2]:\n",
    "        case '1FF':\n",
    "            idx_1FF = i\n",
    "        case '2FF':\n",
    "            idx_2FF = i\n",
    "        case '3FF':\n",
    "            idx_3FF = i\n",
    "        case '4FF':\n",
    "            idx_4FF = i\n",
    "    # check the distance \n",
    "    data_pair =  [df.loc[idx_1FF][4],df.loc[idx_4FF][4]]\n",
    "    if abs(df.loc[idx_1FF][1]-df.loc[idx_4FF][1])<15 and [idx_1FF,idx_4FF] not in visited_indicies: \n",
    "        pos_and_vol_CAN_data.append(data_pair)\n",
    "        visited_indicies.append([idx_1FF,idx_4FF])"
   ]
  },
  {
   "cell_type": "markdown",
   "id": "0d0c35f0",
   "metadata": {},
   "source": [
    "Now convert the CAN data into number "
   ]
  },
  {
   "cell_type": "code",
   "execution_count": 15,
   "id": "b676c176",
   "metadata": {},
   "outputs": [],
   "source": [
    "temp_str = \"\"\n",
    "for i in range(len(pos_and_vol_CAN_data)):\n",
    "    # convert the can message to position in hex \n",
    "    pos_and_vol_CAN_data[i][0] = pos_and_vol_CAN_data[i][0].replace(\" \",\"\")\n",
    "    pos_and_vol_CAN_data[i][0] = pos_and_vol_CAN_data[i][0][0:8]\n",
    "    temp_str += pos_and_vol_CAN_data[i][0][6:8]\n",
    "    temp_str += pos_and_vol_CAN_data[i][0][4:6]\n",
    "    temp_str += pos_and_vol_CAN_data[i][0][2:4]\n",
    "    temp_str += pos_and_vol_CAN_data[i][0][0:2]\n",
    "    pos_and_vol_CAN_data[i][0] = temp_str\n",
    "    temp_str = \"\"\n",
    "    \n",
    "    \n",
    "    pos_and_vol_CAN_data[i][1] = pos_and_vol_CAN_data[i][1].replace(\" \",\"\")\n",
    "    pos_and_vol_CAN_data[i][1] = pos_and_vol_CAN_data[i][1][0:4]\n",
    "    temp_str += pos_and_vol_CAN_data[i][1][2:4]\n",
    "    temp_str += pos_and_vol_CAN_data[i][1][0:2]\n",
    "    pos_and_vol_CAN_data[i][1] = temp_str\n",
    "    temp_str = \"\"\n",
    "\n",
    "# store the data in integer in the new python list \n",
    "pos_and_vol_int_data = []\n",
    "for i in range(len(pos_and_vol_CAN_data)):\n",
    "    pos = int(pos_and_vol_CAN_data[i][0],base = 16)\n",
    "    vol = int(pos_and_vol_CAN_data[i][1],base = 16)\n",
    "    pos_and_vol_int_data.append([pos,vol])"
   ]
  },
  {
   "cell_type": "markdown",
   "id": "b75bb5eb",
   "metadata": {},
   "source": [
    "Filter out the FFFFFFFF value"
   ]
  },
  {
   "cell_type": "code",
   "execution_count": 16,
   "id": "19091b87",
   "metadata": {
    "scrolled": false
   },
   "outputs": [],
   "source": [
    "pos_and_vol_int_data_filter = []\n",
    "for i in range(len(pos_and_vol_int_data)):\n",
    "    if pos_and_vol_int_data[i][0] >= 1000000000:\n",
    "        if i > len(pos_and_vol_int_data)/2:\n",
    "            break\n",
    "        else:\n",
    "            continue\n",
    "    pos_and_vol_int_data_filter.append(pos_and_vol_int_data[i])\n"
   ]
  },
  {
   "cell_type": "markdown",
   "id": "5ee155be",
   "metadata": {},
   "source": [
    "Plot the result "
   ]
  },
  {
   "cell_type": "code",
   "execution_count": 17,
   "id": "4bb99eba",
   "metadata": {},
   "outputs": [
    {
     "data": {
      "text/plain": [
       "<matplotlib.collections.PathCollection at 0x7f8779822c80>"
      ]
     },
     "execution_count": 17,
     "metadata": {},
     "output_type": "execute_result"
    },
    {
     "data": {
      "image/png": "[encoded data removed]",
      "text/plain": [
       "<Figure size 432x288 with 1 Axes>"
      ]
     },
     "metadata": {
      "needs_background": "light"
     },
     "output_type": "display_data"
    }
   ],
   "source": [
    "pos_and_vol_int_data_filter = np.array(pos_and_vol_int_data_filter)\n",
    "plt.scatter(pos_and_vol_int_data_filter.transpose()[0],pos_and_vol_int_data_filter.transpose()[1])"
   ]
  },
  {
   "cell_type": "code",
   "execution_count": null,
   "id": "11b84516",
   "metadata": {},
   "outputs": [],
   "source": []
  }
 ],
 "metadata": {
  "kernelspec": {
   "display_name": "Python 3 (ipykernel)",
   "language": "python",
   "name": "python3"
  },
  "language_info": {
   "codemirror_mode": {
    "name": "ipython",
    "version": 3
   },
   "file_extension": ".py",
   "mimetype": "text/x-python",
   "name": "python",
   "nbconvert_exporter": "python",
   "pygments_lexer": "ipython3",
   "version": "3.10.4"
  }
 },
 "nbformat": 4,
 "nbformat_minor": 5
}
